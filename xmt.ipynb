{
 "cells": [
  {
   "cell_type": "code",
   "execution_count": 10,
   "metadata": {},
   "outputs": [
    {
     "data": {
      "text/plain": [
       "torch.Size([5, 5, 3])"
      ]
     },
     "execution_count": 10,
     "metadata": {},
     "output_type": "execute_result"
    }
   ],
   "source": [
    "import torch\n",
    "\n",
    "n = 5\n",
    "a = torch.ones(n, n)\n",
    "pe_list = [a, 2*a, -1*a]\n",
    "pe = torch.stack(pe_list, dim=-1)\n",
    "pe.shape"
   ]
  },
  {
   "cell_type": "code",
   "execution_count": 11,
   "metadata": {},
   "outputs": [
    {
     "data": {
      "text/plain": [
       "tensor([[1., 1., 1., 1., 1.],\n",
       "        [1., 1., 1., 1., 1.],\n",
       "        [1., 1., 1., 1., 1.],\n",
       "        [1., 1., 1., 1., 1.],\n",
       "        [1., 1., 1., 1., 1.]])"
      ]
     },
     "execution_count": 11,
     "metadata": {},
     "output_type": "execute_result"
    }
   ],
   "source": [
    "pe[:, :, 0]"
   ]
  },
  {
   "cell_type": "code",
   "execution_count": 12,
   "metadata": {},
   "outputs": [
    {
     "data": {
      "text/plain": [
       "tensor([[[ 1.,  2., -1.],\n",
       "         [ 1.,  2., -1.],\n",
       "         [ 1.,  2., -1.],\n",
       "         [ 1.,  2., -1.],\n",
       "         [ 1.,  2., -1.]],\n",
       "\n",
       "        [[ 1.,  2., -1.],\n",
       "         [ 1.,  2., -1.],\n",
       "         [ 1.,  2., -1.],\n",
       "         [ 1.,  2., -1.],\n",
       "         [ 1.,  2., -1.]],\n",
       "\n",
       "        [[ 1.,  2., -1.],\n",
       "         [ 1.,  2., -1.],\n",
       "         [ 1.,  2., -1.],\n",
       "         [ 1.,  2., -1.],\n",
       "         [ 1.,  2., -1.]],\n",
       "\n",
       "        [[ 1.,  2., -1.],\n",
       "         [ 1.,  2., -1.],\n",
       "         [ 1.,  2., -1.],\n",
       "         [ 1.,  2., -1.],\n",
       "         [ 1.,  2., -1.]],\n",
       "\n",
       "        [[ 1.,  2., -1.],\n",
       "         [ 1.,  2., -1.],\n",
       "         [ 1.,  2., -1.],\n",
       "         [ 1.,  2., -1.],\n",
       "         [ 1.,  2., -1.]]])"
      ]
     },
     "execution_count": 12,
     "metadata": {},
     "output_type": "execute_result"
    }
   ],
   "source": [
    "pe"
   ]
  },
  {
   "cell_type": "code",
   "execution_count": 13,
   "metadata": {},
   "outputs": [
    {
     "data": {
      "text/plain": [
       "tensor([[0, 0, 0, 0, 0, 1, 1, 1, 1, 1, 2, 2, 2, 2, 2, 3, 3, 3, 3, 3, 4, 4, 4, 4,\n",
       "         4],\n",
       "        [0, 1, 2, 3, 4, 0, 1, 2, 3, 4, 0, 1, 2, 3, 4, 0, 1, 2, 3, 4, 0, 1, 2, 3,\n",
       "         4]])"
      ]
     },
     "execution_count": 13,
     "metadata": {},
     "output_type": "execute_result"
    }
   ],
   "source": [
    "from torch_sparse import SparseTensor\n",
    "abs_pe = pe.diagonal().transpose(0, 1) # n x k\n",
    "rel_pe = SparseTensor.from_dense(pe, has_value=True)\n",
    "rel_pe_row, rel_pe_col, rel_pe_val = rel_pe.coo()\n",
    "rel_pe_idx = torch.stack([rel_pe_row, rel_pe_col], dim=0)\n",
    "rel_pe_idx"
   ]
  },
  {
   "cell_type": "code",
   "execution_count": 14,
   "metadata": {},
   "outputs": [
    {
     "data": {
      "text/plain": [
       "tensor([[[ 1.,  2., -1.],\n",
       "         [ 1.,  2., -1.],\n",
       "         [ 1.,  2., -1.],\n",
       "         [ 1.,  2., -1.],\n",
       "         [ 1.,  2., -1.]],\n",
       "\n",
       "        [[ 1.,  2., -1.],\n",
       "         [ 1.,  2., -1.],\n",
       "         [ 1.,  2., -1.],\n",
       "         [ 1.,  2., -1.],\n",
       "         [ 1.,  2., -1.]],\n",
       "\n",
       "        [[ 1.,  2., -1.],\n",
       "         [ 1.,  2., -1.],\n",
       "         [ 1.,  2., -1.],\n",
       "         [ 1.,  2., -1.],\n",
       "         [ 1.,  2., -1.]],\n",
       "\n",
       "        [[ 1.,  2., -1.],\n",
       "         [ 1.,  2., -1.],\n",
       "         [ 1.,  2., -1.],\n",
       "         [ 1.,  2., -1.],\n",
       "         [ 1.,  2., -1.]],\n",
       "\n",
       "        [[ 1.,  2., -1.],\n",
       "         [ 1.,  2., -1.],\n",
       "         [ 1.,  2., -1.],\n",
       "         [ 1.,  2., -1.],\n",
       "         [ 1.,  2., -1.]]])"
      ]
     },
     "execution_count": 14,
     "metadata": {},
     "output_type": "execute_result"
    }
   ],
   "source": [
    "pe"
   ]
  },
  {
   "cell_type": "code",
   "execution_count": null,
   "metadata": {},
   "outputs": [],
   "source": []
  },
  {
   "cell_type": "code",
   "execution_count": 15,
   "metadata": {},
   "outputs": [
    {
     "data": {
      "text/plain": [
       "tensor([[4., 4., 4., 4., 4.],\n",
       "        [4., 4., 4., 4., 4.],\n",
       "        [4., 4., 4., 4., 4.],\n",
       "        [4., 4., 4., 4., 4.],\n",
       "        [4., 4., 4., 4., 4.]])"
      ]
     },
     "execution_count": 15,
     "metadata": {},
     "output_type": "execute_result"
    }
   ],
   "source": [
    "pe.abs().sum([i for i in range(2, pe.dim())])"
   ]
  },
  {
   "cell_type": "code",
   "execution_count": 6,
   "metadata": {},
   "outputs": [
    {
     "data": {
      "text/plain": [
       "(torch.Size([2, 25]), torch.Size([25, 3]))"
      ]
     },
     "execution_count": 6,
     "metadata": {},
     "output_type": "execute_result"
    }
   ],
   "source": [
    "rel_pe_idx.shape, rel_pe_val.shape"
   ]
  },
  {
   "cell_type": "code",
   "execution_count": 5,
   "metadata": {},
   "outputs": [
    {
     "data": {
      "text/plain": [
       "tensor([0, 3])"
      ]
     },
     "execution_count": 5,
     "metadata": {},
     "output_type": "execute_result"
    }
   ],
   "source": [
    "from torch_scatter import scatter\n",
    "\n",
    "def full_edge_index(edge_index, batch=None):\n",
    "    \"\"\"\n",
    "    Retunr the Full batched sparse adjacency matrices given by edge indices.\n",
    "    Returns batched sparse adjacency matrices with exactly those edges that\n",
    "    are not in the input `edge_index` while ignoring self-loops.\n",
    "    Implementation inspired by `torch_geometric.utils.to_dense_adj`\n",
    "    Args:\n",
    "        edge_index: The edge indices.\n",
    "        batch: Batch vector, which assigns each node to a specific example.\n",
    "    Returns:\n",
    "        Complementary edge index.\n",
    "    \"\"\"\n",
    "\n",
    "    if batch is None:\n",
    "        batch = edge_index.new_zeros(edge_index.max().item() + 1)\n",
    "\n",
    "    batch_size = batch.max().item() + 1\n",
    "    one = batch.new_ones(batch.size(0))\n",
    "    num_nodes = scatter(one, batch,\n",
    "                        dim=0, dim_size=batch_size, reduce='add')\n",
    "    cum_nodes = torch.cat([batch.new_zeros(1), num_nodes.cumsum(dim=0)])\n",
    "\n",
    "    negative_index_list = []\n",
    "    for i in range(batch_size):\n",
    "        n = num_nodes[i].item()\n",
    "        size = [n, n]\n",
    "        adj = torch.ones(size, dtype=torch.short,\n",
    "                         device=edge_index.device)\n",
    "\n",
    "        adj = adj.view(size)\n",
    "        _edge_index = adj.nonzero(as_tuple=False).t().contiguous()\n",
    "        # _edge_index, _ = remove_self_loops(_edge_index)\n",
    "        negative_index_list.append(_edge_index + cum_nodes[i])\n",
    "\n",
    "    edge_index_full = torch.cat(negative_index_list, dim=1).contiguous()\n",
    "    return edge_index_full\n",
    "\n",
    "edge_index = torch.tensor([[0, 1, 1, 2],\n",
    "                            [1, 0, 2, 1]], dtype=torch.long)\n",
    "\n",
    "batch = edge_index.new_zeros(edge_index.max().item() + 1)\n",
    "one = batch.new_ones(batch.size(0))\n",
    "batch_size = batch.max().item() + 1\n",
    "num_nodes = scatter(one, batch,\n",
    "                    dim=0, dim_size=batch_size, reduce='add')\n",
    "cum_nodes = torch.cat([batch.new_zeros(1), num_nodes.cumsum(dim=0)])\n",
    "cum_nodes"
   ]
  },
  {
   "cell_type": "code",
   "execution_count": 1,
   "metadata": {},
   "outputs": [
    {
     "name": "stderr",
     "output_type": "stream",
     "text": [
      "/home/a/anaconda3/envs/grit/lib/python3.9/site-packages/tqdm/auto.py:21: TqdmWarning: IProgress not found. Please update jupyter and ipywidgets. See https://ipywidgets.readthedocs.io/en/stable/user_install.html\n",
      "  from .autonotebook import tqdm as notebook_tqdm\n"
     ]
    },
    {
     "ename": "RuntimeError",
     "evalue": "The size of tensor a (3) must match the size of tensor b (4) at non-singleton dimension 1",
     "output_type": "error",
     "traceback": [
      "\u001b[0;31m---------------------------------------------------------------------------\u001b[0m",
      "\u001b[0;31mRuntimeError\u001b[0m                              Traceback (most recent call last)",
      "Cell \u001b[0;32mIn[1], line 10\u001b[0m\n\u001b[1;32m      7\u001b[0m a \u001b[39m=\u001b[39m torch\u001b[39m.\u001b[39mrandn(N, A)\n\u001b[1;32m      8\u001b[0m b \u001b[39m=\u001b[39m torch\u001b[39m.\u001b[39mrandn(N, B)\n\u001b[0;32m---> 10\u001b[0m a \u001b[39m+\u001b[39;49m b\n",
      "\u001b[0;31mRuntimeError\u001b[0m: The size of tensor a (3) must match the size of tensor b (4) at non-singleton dimension 1"
     ]
    }
   ],
   "source": [
    "import torch\n",
    "\n",
    "N = 10\n",
    "A = 3\n",
    "B = 4\n",
    "\n",
    "a = torch.randn(N, A)\n",
    "b = torch.randn(N, B)\n",
    "\n",
    "a + b"
   ]
  },
  {
   "cell_type": "code",
   "execution_count": null,
   "metadata": {},
   "outputs": [],
   "source": [
    "from torch_sparse import SparseTensor\n"
   ]
  }
 ],
 "metadata": {
  "kernelspec": {
   "display_name": "grit",
   "language": "python",
   "name": "python3"
  },
  "language_info": {
   "codemirror_mode": {
    "name": "ipython",
    "version": 3
   },
   "file_extension": ".py",
   "mimetype": "text/x-python",
   "name": "python",
   "nbconvert_exporter": "python",
   "pygments_lexer": "ipython3",
   "version": "3.9.16"
  },
  "orig_nbformat": 4
 },
 "nbformat": 4,
 "nbformat_minor": 2
}
